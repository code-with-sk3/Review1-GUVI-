{
 "cells": [
  {
   "cell_type": "markdown",
   "id": "980c10fd",
   "metadata": {},
   "source": [
    "# Netflix Data Analysis - Review 2: Visualization & Interpretation"
   ]
  },
  {
   "cell_type": "code",
   "execution_count": null,
   "id": "abd0baae",
   "metadata": {},
   "outputs": [],
   "source": [
    "import pandas as pd\n",
    "import matplotlib.pyplot as plt\n",
    "import seaborn as sns\n",
    "import plotly.express as px"
   ]
  },
  {
   "cell_type": "code",
   "execution_count": null,
   "id": "352f1017",
   "metadata": {},
   "outputs": [],
   "source": [
    "# Load data again (if running separately)\n",
    "df = pd.read_csv('netflix_titles.csv')\n",
    "df['date_added'] = pd.to_datetime(df['date_added'], errors='coerce')\n",
    "df['year_added'] = df['date_added'].dt.year\n",
    "df['month_added'] = df['date_added'].dt.month\n",
    "df['type_encoded'] = df['type'].map({'Movie': 0, 'TV Show': 1})"
   ]
  },
  {
   "cell_type": "code",
   "execution_count": null,
   "id": "105e58f3",
   "metadata": {},
   "outputs": [],
   "source": [
    "# Step 1: Chart types\n",
    "fig1 = px.pie(df, names='type', title='Distribution of Content Types')\n",
    "fig1.show()\n",
    "\n",
    "top_countries = df['country'].value_counts().nlargest(10)\n",
    "fig2 = px.bar(x=top_countries.index, y=top_countries.values,\n",
    "              labels={'x': 'Country', 'y': 'Content Count'},\n",
    "              title='Top 10 Countries by Netflix Content')\n",
    "fig2.show()"
   ]
  },
  {
   "cell_type": "code",
   "execution_count": null,
   "id": "5a73593a",
   "metadata": {},
   "outputs": [],
   "source": [
    "# Step 2: Aesthetics\n",
    "plt.figure(figsize=(12,6))\n",
    "sns.heatmap(df.corr(numeric_only=True), annot=True, cmap='YlGnBu')\n",
    "plt.title('Correlation Heatmap')\n",
    "plt.show()"
   ]
  },
  {
   "cell_type": "code",
   "execution_count": null,
   "id": "f1ab6c99",
   "metadata": {},
   "outputs": [],
   "source": [
    "# Step 3: Interactive elements\n",
    "fig3 = px.scatter(df, x='release_year', y='year_added', color='type',\n",
    "                  title='Release Year vs. Year Added')\n",
    "fig3.show()"
   ]
  },
  {
   "cell_type": "code",
   "execution_count": null,
   "id": "7f62e667",
   "metadata": {},
   "outputs": [],
   "source": [
    "# Step 4: Storytelling\n",
    "movies_by_year = df[df['type'] == 'Movie']['year_added'].value_counts().sort_index()\n",
    "shows_by_year = df[df['type'] == 'TV Show']['year_added'].value_counts().sort_index()\n",
    "\n",
    "plt.figure(figsize=(10,6))\n",
    "plt.plot(movies_by_year.index, movies_by_year.values, label='Movies')\n",
    "plt.plot(shows_by_year.index, shows_by_year.values, label='TV Shows')\n",
    "plt.title('Trend of Movies and TV Shows Added Over Years')\n",
    "plt.xlabel('Year')\n",
    "plt.ylabel('Count')\n",
    "plt.legend()\n",
    "plt.grid(True)\n",
    "plt.show()"
   ]
  }
 ],
 "metadata": {},
 "nbformat": 4,
 "nbformat_minor": 5
}