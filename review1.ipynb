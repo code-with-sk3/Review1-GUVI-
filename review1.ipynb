{
 "cells": [
  {
   "cell_type": "code",
   "execution_count": 1,
   "id": "eb9ac803-5d25-4cdb-95ed-dcf4aae51a9b",
   "metadata": {},
   "outputs": [],
   "source": [
    "import numpy as np\n",
    "import pandas as pd\n",
    "import matplotlib.pyplot as plt\n",
    "import seaborn as sns"
   ]
  },
  {
   "cell_type": "code",
   "execution_count": null,
   "id": "cd433464-1f9b-4617-9f27-c65ad59a21d4",
   "metadata": {},
   "outputs": [],
   "source": [
    "df = pd.read_csv('mymoviedb.csv',lineterminator = '\\n')\n",
    "df.head()"
   ]
  },
  {
   "cell_type": "code",
   "execution_count": null,
   "id": "5114a162-0580-4f7b-8536-133a78ec37aa",
   "metadata": {},
   "outputs": [],
   "source": [
    "df.info()"
   ]
  },
  {
   "cell_type": "code",
   "execution_count": 46,
   "id": "a7f78309-6837-4475-8e74-eb38d8fa643d",
   "metadata": {},
   "outputs": [
    {
     "data": {
      "text/plain": [
       "0"
      ]
     },
     "execution_count": 46,
     "metadata": {},
     "output_type": "execute_result"
    }
   ],
   "source": [
    "df.duplicated().sum()"
   ]
  },
  {
   "cell_type": "code",
   "execution_count": null,
   "id": "dd6a91f0-e880-4efd-9c92-4794fbf2fb14",
   "metadata": {},
   "outputs": [],
   "source": [
    "df.describe()"
   ]
  },
  {
   "cell_type": "code",
   "execution_count": null,
   "id": "7ce1e694-51a0-4b02-95e3-9fcefff4562b",
   "metadata": {},
   "outputs": [],
   "source": [
    "Exploration Summary\n",
    "\n",
    ". we an a detaframe consisting of 3827 rows and colums.\n",
    "\n",
    ". our dataset looks a bit tidy with no has nor duplicated values.\n",
    "\n",
    ". Release Date column needs to be casted into date time and to extract only the year value.\n",
    "\n",
    ". Overview, Original Langings and Poster-Url wouldn't be so useful during analysis, so we'll drop them.\n",
    "\n",
    ". there is noticable outliers in Popularity column\n",
    "\n",
    ". Vote Average bettter be categorised for proper analysis.\n",
    "\n",
    ". Genre colum has come sapereted values and white spaces that needs to be handled and casted into category. Exploration Summary"
   ]
  },
  {
   "cell_type": "code",
   "execution_count": null,
   "id": "8b5b6f1b-5fcb-4506-a7f2-d0a20d35c9a2",
   "metadata": {},
   "outputs": [],
   "source": [
    "df['Release_Date'] = pd.to_datetime(df['Release_Date'])    # to chage datatype of Release_Date into date time\n",
    "print(df['Release_Date'].dtype)"
   ]
  },
  {
   "cell_type": "code",
   "execution_count": null,
   "id": "3b000947-7fda-4b50-a238-80af07a80700",
   "metadata": {},
   "outputs": [],
   "source": [
    "df['Release_Date'] = df['Release_Date'].dt.year  # to contain only year in date column\n",
    "\n",
    "df['Release_Date'].dtypes"
   ]
  },
  {
   "cell_type": "code",
   "execution_count": null,
   "id": "6c864cb5-15eb-48ba-a937-f3e436b7d04b",
   "metadata": {},
   "outputs": [],
   "source": [
    "df.head()"
   ]
  },
  {
   "cell_type": "markdown",
   "id": "106d0e68-40d9-467e-b8cb-8a2b18e3089a",
   "metadata": {},
   "source": [
    "Dropping the column"
   ]
  },
  {
   "cell_type": "code",
   "execution_count": 51,
   "id": "fddfc234-8266-49c1-ba0e-fc730f63a857",
   "metadata": {},
   "outputs": [],
   "source": [
    "cols = ['Overview','Original_Language','Poster_Url']"
   ]
  },
  {
   "cell_type": "code",
   "execution_count": null,
   "id": "c6294332-91b6-4480-891e-30550090392c",
   "metadata": {},
   "outputs": [],
   "source": [
    "df.drop(cols, axis = 1, inplace = True)\n",
    "df.columns"
   ]
  },
  {
   "cell_type": "code",
   "execution_count": null,
   "id": "03c59107-022c-4a74-9254-6625a43786e2",
   "metadata": {},
   "outputs": [],
   "source": [
    "df.head()"
   ]
  },
  {
   "cell_type": "markdown",
   "id": "e2f1d965-e567-40ef-af7e-72f5ec820424",
   "metadata": {},
   "source": [
    "Categorizing Vote Average column\n",
    "\n",
    "We would cut the Vote Average values and make 4 categories popular average below_avg not_popular to describe it more using catigorize_col() function provided above."
   ]
  },
  {
   "cell_type": "code",
   "execution_count": 54,
   "id": "fb3f4832-b745-48c2-8439-6b8989289191",
   "metadata": {},
   "outputs": [],
   "source": [
    "def catigorize_col(df,col,labels):\n",
    "    edges = [df[col].describe()['min'],\n",
    "             df[col].describe()['25%'],\n",
    "             df[col].describe()['50%'],\n",
    "             df[col].describe()['75%'],\n",
    "             df[col].describe()['max']]\n",
    "\n",
    "    df[col] = pd.cut(df[col],edges,labels = labels,duplicates = 'drop')\n",
    "    return df"
   ]
  },
  {
   "cell_type": "code",
   "execution_count": null,
   "id": "d45dac50-8cd3-41f3-b2eb-a84304f59225",
   "metadata": {},
   "outputs": [],
   "source": [
    "labels = ['not_popular', 'below_avg', 'average', 'popular']\n",
    "\n",
    "catigorize_col(df,'Vote_Average',labels)\n",
    "\n",
    "df['Vote_Average'].unique()"
   ]
  },
  {
   "cell_type": "code",
   "execution_count": null,
   "id": "a1d50483-e720-4eaf-9fc1-b5f365671ec0",
   "metadata": {},
   "outputs": [],
   "source": [
    "df.head()"
   ]
  },
  {
   "cell_type": "code",
   "execution_count": null,
   "id": "f338e305-e972-4a6f-b23f-89f6f35852cd",
   "metadata": {},
   "outputs": [],
   "source": [
    "df['Vote_Average'].value_counts()"
   ]
  },
  {
   "cell_type": "code",
   "execution_count": null,
   "id": "d0cf69c7-4a65-4e8d-b82b-17af0720be75",
   "metadata": {},
   "outputs": [],
   "source": [
    "df.dropna(inplace = True)\n",
    "\n",
    "df.isna().sum()"
   ]
  },
  {
   "cell_type": "code",
   "execution_count": null,
   "id": "316e9579-287b-4348-85b5-563f69d6f0c7",
   "metadata": {},
   "outputs": [],
   "source": [
    "df.nunique()"
   ]
  },
  {
   "cell_type": "markdown",
   "id": "a5664068-a948-4800-8d33-4f6a2cfbf71b",
   "metadata": {},
   "source": [
    "# Data Visualization"
   ]
  },
  {
   "cell_type": "markdown",
   "id": "690210e5-e57c-4b6b-bebf-8284ae7ffe27",
   "metadata": {},
   "source": [
    "# which has highest votes in vote avg column"
   ]
  },
  {
   "cell_type": "code",
   "execution_count": null,
   "id": "05c16fb8-ec4c-4dd7-a6c0-56b6837aa68a",
   "metadata": {},
   "outputs": [],
   "source": [
    "df.head()"
   ]
  },
  {
   "cell_type": "code",
   "execution_count": null,
   "id": "25b033c6-9f36-4ffd-a3d4-51299f7aea7a",
   "metadata": {},
   "outputs": [],
   "source": []
  }
 ],
 "metadata": {
  "kernelspec": {
   "display_name": "Python 3 (ipykernel)",
   "language": "python",
   "name": "python3"
  },
  "language_info": {
   "codemirror_mode": {
    "name": "ipython",
    "version": 3
   },
   "file_extension": ".py",
   "mimetype": "text/x-python",
   "name": "python",
   "nbconvert_exporter": "python",
   "pygments_lexer": "ipython3",
   "version": "3.12.7"
  }
 },
 "nbformat": 4,
 "nbformat_minor": 5
}
